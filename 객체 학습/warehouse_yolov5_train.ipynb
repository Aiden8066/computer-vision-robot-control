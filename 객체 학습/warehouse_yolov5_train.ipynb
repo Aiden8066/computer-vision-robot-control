{
 "cells": [
  {
   "cell_type": "raw",
   "metadata": {
    "vscode": {
     "languageId": "raw"
    }
   },
   "source": [
    "# 🏭 창고 객체 인식을 위한 YOLOv5 학습\n",
    "\n",
    "이 노트북은 구글 코랩의 GPU를 사용하여 YOLOv5 모델을 창고/물류 관련 데이터셋으로 학습하기 위한 것입니다.\n",
    "\n",
    "## 📝 사용 방법\n",
    "1. 이 노트북을 구글 코랩에서 열어주세요\n",
    "2. 런타임 유형을 GPU로 변경해주세요 (런타임 > 런타임 유형 변경 > GPU)\n",
    "3. 데이터셋을 구글 드라이브에 업로드해주세요\n",
    "4. 각 셀의 설명을 읽고 순서대로 실행해주세요\n"
   ]
  },
  {
   "cell_type": "code",
   "execution_count": null,
   "metadata": {},
   "outputs": [],
   "source": [
    "#@title 1️⃣ 구글 드라이브 연결하기\n",
    "from google.colab import drive\n",
    "drive.mount('/content/drive')\n",
    "\n",
    "# 데이터셋 경로 설정 (본인의 드라이브 경로로 수정해주세요)\n",
    "DATASET_PATH = '/content/drive/MyDrive/dataforkliftv10'\n",
    "\n",
    "# data.yaml 파일 생성\n",
    "import yaml\n",
    "\n",
    "data_config = {\n",
    "    'train': '/content/drive/MyDrive/dataforkliftv10/train/images',  # 절대 경로 사용\n",
    "    'val': '/content/drive/MyDrive/dataforkliftv10/valid/images',    # 절대 경로 사용\n",
    "    'nc': 2,  # 포크리프트와 사람, 2개 클래스\n",
    "    'names': ['forklift', 'person']  # 클래스 이름 목록\n",
    "}\n",
    "\n",
    "yaml_path = f'{DATASET_PATH}/data.yaml'\n",
    "with open(yaml_path, 'w') as f:\n",
    "    yaml.dump(data_config, f, sort_keys=False)\n"
   ]
  },
  {
   "cell_type": "code",
   "execution_count": null,
   "metadata": {},
   "outputs": [],
   "source": [
    "#@title 2️⃣ YOLOv5 설치하기\n",
    "!git clone https://github.com/ultralytics/yolov5\n",
    "%cd yolov5\n",
    "%pip install -r requirements.txt\n"
   ]
  },
  {
   "cell_type": "raw",
   "metadata": {
    "vscode": {
     "languageId": "raw"
    }
   },
   "source": [
    "## 📂 데이터셋 구조 확인\n",
    "데이터셋은 다음과 같은 구조로 되어있어야 합니다:\n",
    "```\n",
    "dataforkliftv10/\n",
    "├── train/\n",
    "│   ├── images/\n",
    "│   └── labels/\n",
    "└── valid/\n",
    "    ├── images/\n",
    "    └── labels/\n",
    "```\n",
    "\n",
    "data.yaml 파일의 예시 (이 파일을 생성해야 합니다):\n",
    "```yaml\n",
    "train: /content/drive/MyDrive/dataforkliftv10/train/images  # 구글 드라이브 절대 경로\n",
    "val: /content/drive/MyDrive/dataforkliftv10/valid/images    # 구글 드라이브 절대 경로\n",
    "nc: 2  # 클래스 개수 (포크리프트, 사람)\n",
    "names: ['forklift', 'person']  # 클래스 이름 목록\n",
    "```\n",
    "\n",
    "주의: labels 폴더의 레이블 파일에서도 클래스 번호가 맞아야 합니다:\n",
    "- 0: forklift\n",
    "- 1: person\n"
   ]
  },
  {
   "cell_type": "code",
   "execution_count": null,
   "metadata": {},
   "outputs": [],
   "source": [
    "#@title 1️⃣ 구글 드라이브 연결하기\n",
    "from google.colab import drive\n",
    "drive.mount('/content/drive')\n",
    "\n",
    "# 데이터셋 경로 설정 (본인의 드라이브 경로로 수정해주세요)\n",
    "DATASET_PATH = '/content/drive/MyDrive/dataforkliftv10'\n",
    "\n",
    "# data.yaml 파일 생성\n",
    "import yaml\n",
    "\n",
    "data_config = {\n",
    "    'train': '/content/drive/MyDrive/dataforkliftv10/train/images',  # 절대 경로 사용\n",
    "    'val': '/content/drive/MyDrive/dataforkliftv10/valid/images',    # 절대 경로 사용\n",
    "    'nc': 2,  # 포크리프트와 사람, 2개 클래스\n",
    "    'names': ['forklift', 'person']  # 클래스 이름 목록\n",
    "}\n",
    "\n",
    "yaml_path = f'{DATASET_PATH}/data.yaml'\n",
    "with open(yaml_path, 'w') as f:\n",
    "    yaml.dump(data_config, f, sort_keys=False)\n"
   ]
  },
  {
   "cell_type": "code",
   "execution_count": null,
   "metadata": {},
   "outputs": [],
   "source": [
    "#@title 1️⃣ 구글 드라이브 연결하기\n",
    "from google.colab import drive\n",
    "drive.mount('/content/drive')\n",
    "\n",
    "# 데이터셋 경로 설정 (본인의 드라이브 경로로 수정해주세요)\n",
    "DATASET_PATH = '/content/drive/MyDrive/dataforkliftv10'\n",
    "\n",
    "# data.yaml 파일 생성\n",
    "import yaml\n",
    "\n",
    "data_config = {\n",
    "    'train': '/content/drive/MyDrive/dataforkliftv10/train/images',  # 절대 경로 사용\n",
    "    'val': '/content/drive/MyDrive/dataforkliftv10/valid/images',    # 절대 경로 사용\n",
    "    'nc': 2,  # 포크리프트와 사람, 2개 클래스\n",
    "    'names': ['forklift', 'person']  # 클래스 이름 목록\n",
    "}\n",
    "\n",
    "yaml_path = f'{DATASET_PATH}/data.yaml'\n",
    "with open(yaml_path, 'w') as f:\n",
    "    yaml.dump(data_config, f, sort_keys=False)\n"
   ]
  },
  {
   "cell_type": "code",
   "execution_count": null,
   "metadata": {},
   "outputs": [],
   "source": [
    "#@title 3️⃣ 데이터셋 확인하기\n",
    "import yaml\n",
    "import os\n",
    "\n",
    "# data.yaml 파일 경로 (수정 필요)\n",
    "yaml_path = os.path.join(DATASET_PATH, 'data.yaml')\n",
    "\n",
    "# data.yaml 파일 읽기\n",
    "with open(yaml_path, 'r') as f:\n",
    "    data = yaml.safe_load(f)\n",
    "print('데이터셋 설정:')\n",
    "print(f'- 클래스 개수: {data[\"nc\"]}')\n",
    "print(f'- 클래스 목록: {data[\"names\"]}')\n",
    "print(f'- 학습 데이터: {data[\"train\"]}')\n",
    "print(f'- 검증 데이터: {data[\"val\"]}')\n"
   ]
  },
  {
   "cell_type": "code",
   "execution_count": null,
   "metadata": {},
   "outputs": [],
   "source": [
    "#@title 4️⃣ 모델 학습하기\n",
    "\n",
    "# 학습 설정 (필요에 따라 수정하세요)\n",
    "EPOCHS = 100        # 학습 횟수\n",
    "BATCH_SIZE = 16     # 배치 크기\n",
    "IMG_SIZE = 640      # 이미지 크기\n",
    "WEIGHTS = 'yolov5s.pt'  # 사전학습 가중치 (s, m, l, x 중 선택)\n",
    "\n",
    "# 학습 실행\n",
    "!python train.py \\\n",
    "    --img {IMG_SIZE} \\\n",
    "    --batch {BATCH_SIZE} \\\n",
    "    --epochs {EPOCHS} \\\n",
    "    --data {yaml_path} \\\n",
    "    --weights {WEIGHTS} \\\n",
    "    --project {DATASET_PATH}/runs \\\n",
    "    --name exp \\\n",
    "    --exist-ok \\\n",
    "    --nosave \\  # 중간 체크포인트 저장하지 않음\n",
    "    --noplots \\  # 추가 플롯 생성하지 않음\n",
    "    --no-wandb  # Weights & Biases 비활성화\n"
   ]
  },
  {
   "cell_type": "code",
   "execution_count": null,
   "metadata": {},
   "outputs": [],
   "source": [
    "#@title 5️⃣ 학습된 모델 저장하기\n",
    "from google.colab import files\n",
    "import shutil\n",
    "\n",
    "# best.pt 파일 경로\n",
    "best_weights = f'{DATASET_PATH}/runs/exp/weights/best.pt'\n",
    "\n",
    "# 구글 드라이브에 복사\n",
    "save_path = f'{DATASET_PATH}/best.pt'\n",
    "shutil.copy(best_weights, save_path)\n",
    "print(f'모델이 저장되었습니다: {save_path}')\n",
    "\n",
    "# 로컬 PC로 다운로드 (선택사항)\n",
    "files.download(save_path)\n"
   ]
  },
  {
   "cell_type": "raw",
   "metadata": {
    "vscode": {
     "languageId": "raw"
    }
   },
   "source": [
    "## 📌 참고사항\n",
    "\n",
    "1. **런타임 연결 끊김 방지**\n",
    "   - 브라우저 창을 계속 열어두세요\n",
    "   - 'F12' > 'Console' > 입력: `function ClickConnect(){console.log(\"Working\"),document.querySelector(\"colab-connect-button\").click()};setInterval(ClickConnect,60000)`\n",
    "\n",
    "2. **학습 설정 조정**\n",
    "   - `EPOCHS`: 더 많은 학습이 필요하면 증가\n",
    "   - `BATCH_SIZE`: GPU 메모리에 따라 조정 (OOM 에러시 감소)\n",
    "   - `IMG_SIZE`: 이미지 해상도 (큰 객체는 증가, 작은 객체는 감소)\n",
    "   - `WEIGHTS`: 모델 크기 (s < m < l < x, 큰 모델은 정확도는 높지만 느림)\n",
    "\n",
    "3. **문제 해결**\n",
    "   - GPU 메모리 부족: `BATCH_SIZE` 감소\n",
    "   - 학습이 잘 안됨: `EPOCHS` 증가 또는 `WEIGHTS` 변경\n",
    "   - 데이터셋 오류: 폴더 구조와 `data.yaml` 확인\n"
   ]
  }
 ],
 "metadata": {
  "language_info": {
   "name": "python"
  }
 },
 "nbformat": 4,
 "nbformat_minor": 2
}
